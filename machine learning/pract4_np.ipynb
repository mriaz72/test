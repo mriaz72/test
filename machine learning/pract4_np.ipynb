{
 "cells": [
  {
   "cell_type": "markdown",
   "id": "b8939f1c-ff1c-417c-ad7f-0125d8a73a68",
   "metadata": {},
   "source": [
    "<h2>Methimatical operation using numpy</h2>"
   ]
  },
  {
   "cell_type": "code",
   "execution_count": 1,
   "id": "9b760945-7595-4578-a7b3-c43f8ec99bf3",
   "metadata": {},
   "outputs": [],
   "source": [
    "import numpy as np"
   ]
  },
  {
   "cell_type": "code",
   "execution_count": 2,
   "id": "2cf54f9d-d1cd-4331-9a29-fd339661be69",
   "metadata": {},
   "outputs": [
    {
     "name": "stdout",
     "output_type": "stream",
     "text": [
      "[[1 2 3]\n",
      " [4 5 6]\n",
      " [7 8 9]]\n",
      "[[1 2 3]\n",
      " [4 5 6]\n",
      " [7 8 9]]\n"
     ]
    }
   ],
   "source": [
    "ar1 = np.arange(1,10).reshape(3,3)\n",
    "ar2 = np.arange(1,10).reshape(3,3)\n",
    "print(ar1)\n",
    "print(ar2)"
   ]
  },
  {
   "cell_type": "code",
   "execution_count": 3,
   "id": "078ad571-aa0c-4013-85c1-ecde38b1128c",
   "metadata": {},
   "outputs": [
    {
     "data": {
      "text/plain": [
       "array([[ 2,  4,  6],\n",
       "       [ 8, 10, 12],\n",
       "       [14, 16, 18]])"
      ]
     },
     "execution_count": 3,
     "metadata": {},
     "output_type": "execute_result"
    }
   ],
   "source": [
    "ar1+ar2"
   ]
  },
  {
   "cell_type": "code",
   "execution_count": 4,
   "id": "a3099697-de8f-4492-be86-a2915f8dae8b",
   "metadata": {},
   "outputs": [
    {
     "data": {
      "text/plain": [
       "array([[ 2,  4,  6],\n",
       "       [ 8, 10, 12],\n",
       "       [14, 16, 18]])"
      ]
     },
     "execution_count": 4,
     "metadata": {},
     "output_type": "execute_result"
    }
   ],
   "source": [
    "np.add(ar1,ar2)"
   ]
  },
  {
   "cell_type": "code",
   "execution_count": 5,
   "id": "8a5a8e7c-d345-4024-9e09-d608d0c38e9a",
   "metadata": {},
   "outputs": [
    {
     "data": {
      "text/plain": [
       "array([[0, 0, 0],\n",
       "       [0, 0, 0],\n",
       "       [0, 0, 0]])"
      ]
     },
     "execution_count": 5,
     "metadata": {},
     "output_type": "execute_result"
    }
   ],
   "source": [
    "np.subtract(ar1,ar2)"
   ]
  },
  {
   "cell_type": "code",
   "execution_count": 6,
   "id": "c3fe89a7-149d-4491-8e2b-9dcd520dd875",
   "metadata": {},
   "outputs": [
    {
     "data": {
      "text/plain": [
       "array([[ 1,  4,  9],\n",
       "       [16, 25, 36],\n",
       "       [49, 64, 81]])"
      ]
     },
     "execution_count": 6,
     "metadata": {},
     "output_type": "execute_result"
    }
   ],
   "source": [
    "#multiplication element to element\n",
    "np.multiply(ar1,ar2)"
   ]
  },
  {
   "cell_type": "code",
   "execution_count": 7,
   "id": "803ee6ca-bd30-429b-936c-2a4e0f7605cf",
   "metadata": {},
   "outputs": [
    {
     "data": {
      "text/plain": [
       "array([[1., 1., 1.],\n",
       "       [1., 1., 1.],\n",
       "       [1., 1., 1.]])"
      ]
     },
     "execution_count": 7,
     "metadata": {},
     "output_type": "execute_result"
    }
   ],
   "source": [
    "np.divide(ar1,ar2)"
   ]
  },
  {
   "cell_type": "code",
   "execution_count": 8,
   "id": "b39f29f0-f019-4cc7-8537-964c178a1598",
   "metadata": {},
   "outputs": [
    {
     "data": {
      "text/plain": [
       "array([[ 30,  36,  42],\n",
       "       [ 66,  81,  96],\n",
       "       [102, 126, 150]])"
      ]
     },
     "execution_count": 8,
     "metadata": {},
     "output_type": "execute_result"
    }
   ],
   "source": [
    "ar1@ar2"
   ]
  },
  {
   "cell_type": "code",
   "execution_count": 9,
   "id": "c9877fd4-736d-4c21-9e2d-2c242a7b87b4",
   "metadata": {},
   "outputs": [
    {
     "data": {
      "text/plain": [
       "array([[ 30,  36,  42],\n",
       "       [ 66,  81,  96],\n",
       "       [102, 126, 150]])"
      ]
     },
     "execution_count": 9,
     "metadata": {},
     "output_type": "execute_result"
    }
   ],
   "source": [
    "ar1.dot(ar2)"
   ]
  },
  {
   "cell_type": "code",
   "execution_count": 10,
   "id": "d61b4db7-fb2d-4149-b64f-536bd514ce9f",
   "metadata": {},
   "outputs": [
    {
     "data": {
      "text/plain": [
       "array([[1, 2, 3],\n",
       "       [4, 5, 6],\n",
       "       [7, 8, 9]])"
      ]
     },
     "execution_count": 10,
     "metadata": {},
     "output_type": "execute_result"
    }
   ],
   "source": [
    "ar1"
   ]
  },
  {
   "cell_type": "code",
   "execution_count": 18,
   "id": "4478638c-8609-4f9d-ba2e-23864820be3f",
   "metadata": {},
   "outputs": [
    {
     "data": {
      "text/plain": [
       "np.int64(9)"
      ]
     },
     "execution_count": 18,
     "metadata": {},
     "output_type": "execute_result"
    }
   ],
   "source": [
    "#maximum value of the matrix\n",
    "ar1.max()"
   ]
  },
  {
   "cell_type": "code",
   "execution_count": 14,
   "id": "a8539473-8c47-493b-a402-c16e21317422",
   "metadata": {},
   "outputs": [
    {
     "data": {
      "text/plain": [
       "np.int64(8)"
      ]
     },
     "execution_count": 14,
     "metadata": {},
     "output_type": "execute_result"
    }
   ],
   "source": [
    "#indix of maximum value\n",
    "ar1.argmax()"
   ]
  },
  {
   "cell_type": "code",
   "execution_count": 16,
   "id": "24bfbd35-9b69-4f83-be1b-52cea398066b",
   "metadata": {},
   "outputs": [
    {
     "data": {
      "text/plain": [
       "array([7, 8, 9])"
      ]
     },
     "execution_count": 16,
     "metadata": {},
     "output_type": "execute_result"
    }
   ],
   "source": [
    "#maximum value of the every row\n",
    "ar1.max(axis = 0)"
   ]
  },
  {
   "cell_type": "code",
   "execution_count": 17,
   "id": "6fa2b0ab-f719-4d80-a1e5-4e566d0fc6dd",
   "metadata": {},
   "outputs": [
    {
     "data": {
      "text/plain": [
       "array([3, 6, 9])"
      ]
     },
     "execution_count": 17,
     "metadata": {},
     "output_type": "execute_result"
    }
   ],
   "source": [
    "#maximum value of the every colum\n",
    "ar1.max(axis = 1)"
   ]
  },
  {
   "cell_type": "code",
   "execution_count": 19,
   "id": "0e62423e-c4af-47f4-bec1-fcd580ccaca8",
   "metadata": {},
   "outputs": [],
   "source": [
    "#same for minimum values use min"
   ]
  },
  {
   "cell_type": "code",
   "execution_count": 21,
   "id": "6e24d0cb-2e41-4084-8c61-2a0ef69f9787",
   "metadata": {},
   "outputs": [
    {
     "data": {
      "text/plain": [
       "np.int64(45)"
      ]
     },
     "execution_count": 21,
     "metadata": {},
     "output_type": "execute_result"
    }
   ],
   "source": [
    "#sum of all values\n",
    "np.sum(ar1)"
   ]
  },
  {
   "cell_type": "code",
   "execution_count": 22,
   "id": "d0802c97-4b6f-44b9-8b3d-b1ee8dacd50b",
   "metadata": {},
   "outputs": [
    {
     "data": {
      "text/plain": [
       "array([12, 15, 18])"
      ]
     },
     "execution_count": 22,
     "metadata": {},
     "output_type": "execute_result"
    }
   ],
   "source": [
    "#sum values of row\n",
    "np.sum(ar1,axis = 0)"
   ]
  },
  {
   "cell_type": "code",
   "execution_count": 23,
   "id": "955a4624-d383-4e2f-b5ac-6e3a12badc35",
   "metadata": {},
   "outputs": [
    {
     "data": {
      "text/plain": [
       "np.float64(5.0)"
      ]
     },
     "execution_count": 23,
     "metadata": {},
     "output_type": "execute_result"
    }
   ],
   "source": [
    "#average of array\n",
    "np.mean(ar1)"
   ]
  },
  {
   "cell_type": "code",
   "execution_count": 24,
   "id": "ff259857-0eef-491f-90e8-2ab3eb1fc392",
   "metadata": {},
   "outputs": [
    {
     "data": {
      "text/plain": [
       "array([[1.        , 1.41421356, 1.73205081],\n",
       "       [2.        , 2.23606798, 2.44948974],\n",
       "       [2.64575131, 2.82842712, 3.        ]])"
      ]
     },
     "execution_count": 24,
     "metadata": {},
     "output_type": "execute_result"
    }
   ],
   "source": [
    "#squre root of every value\n",
    "np.sqrt(ar1)"
   ]
  },
  {
   "cell_type": "code",
   "execution_count": null,
   "id": "c1d8b9ae-98fe-4296-8d6d-4728900cb89c",
   "metadata": {},
   "outputs": [],
   "source": []
  }
 ],
 "metadata": {
  "kernelspec": {
   "display_name": "Python 3 (ipykernel)",
   "language": "python",
   "name": "python3"
  },
  "language_info": {
   "codemirror_mode": {
    "name": "ipython",
    "version": 3
   },
   "file_extension": ".py",
   "mimetype": "text/x-python",
   "name": "python",
   "nbconvert_exporter": "python",
   "pygments_lexer": "ipython3",
   "version": "3.12.4"
  }
 },
 "nbformat": 4,
 "nbformat_minor": 5
}
