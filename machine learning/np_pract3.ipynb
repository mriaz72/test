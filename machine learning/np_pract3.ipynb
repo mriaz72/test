{
 "cells": [
  {
   "cell_type": "markdown",
   "id": "41b52ff9-f4ca-4282-98a0-8cc3c1d0211e",
   "metadata": {},
   "source": [
    "<h2>Numpy Function</h2>"
   ]
  },
  {
   "cell_type": "code",
   "execution_count": 3,
   "id": "c6efb9eb-029b-44c3-8ef8-44171fb0f6c0",
   "metadata": {},
   "outputs": [],
   "source": [
    "import numpy as np"
   ]
  },
  {
   "cell_type": "markdown",
   "id": "3625316d-ee27-418f-8db5-c974c69acbdd",
   "metadata": {},
   "source": [
    "<h2>Arange Function</h2>"
   ]
  },
  {
   "cell_type": "code",
   "execution_count": 14,
   "id": "9bb8bee5-6683-453e-a83b-57e773139502",
   "metadata": {},
   "outputs": [
    {
     "name": "stdout",
     "output_type": "stream",
     "text": [
      "[ 1  2  3  4  5  6  7  8  9 10 11 12]\n"
     ]
    }
   ],
   "source": [
    "#arange(start,end,steps)\n",
    "arr_1d = np.arange(1,13)\n",
    "print(arr_1d)"
   ]
  },
  {
   "cell_type": "code",
   "execution_count": 6,
   "id": "ed8ab3a6-0962-4806-b416-6aebe1355244",
   "metadata": {},
   "outputs": [
    {
     "name": "stdout",
     "output_type": "stream",
     "text": [
      "[ 0  2  4  6  8 10 12]\n"
     ]
    }
   ],
   "source": [
    "even_1d = np.arange(0,13,2)\n",
    "print(even_1d)"
   ]
  },
  {
   "cell_type": "markdown",
   "id": "6bca7163-2f85-4abd-91a4-35f6bb4c6a59",
   "metadata": {},
   "source": [
    "<h2>linespace()</h2>"
   ]
  },
  {
   "cell_type": "code",
   "execution_count": 10,
   "id": "526b6d15-4334-44fa-aff2-52ae29028fc3",
   "metadata": {},
   "outputs": [
    {
     "name": "stdout",
     "output_type": "stream",
     "text": [
      "[1.         2.33333333 3.66666667 5.        ]\n"
     ]
    }
   ],
   "source": [
    "arr1_1d = np.linspace(1,5,4)\n",
    "print(arr_1d)"
   ]
  },
  {
   "cell_type": "markdown",
   "id": "96d04e1c-9cb1-42ba-8503-d6e732c5bee6",
   "metadata": {},
   "source": [
    "<h2>reshape()</h2>"
   ]
  },
  {
   "cell_type": "code",
   "execution_count": 16,
   "id": "1f7100a7-7714-4ac3-a4a6-d76726ed8d2a",
   "metadata": {},
   "outputs": [
    {
     "name": "stdout",
     "output_type": "stream",
     "text": [
      "[[ 1  2  3  4  5  6]\n",
      " [ 7  8  9 10 11 12]]\n"
     ]
    }
   ],
   "source": [
    "ar_2d = arr_1d.reshape(2,6)\n",
    "print(ar_2d)"
   ]
  },
  {
   "cell_type": "code",
   "execution_count": 17,
   "id": "434f94c7-17f3-4448-a943-20e9565decf8",
   "metadata": {},
   "outputs": [
    {
     "name": "stdout",
     "output_type": "stream",
     "text": [
      "[[[ 1  2]\n",
      "  [ 3  4]\n",
      "  [ 5  6]]\n",
      "\n",
      " [[ 7  8]\n",
      "  [ 9 10]\n",
      "  [11 12]]]\n"
     ]
    }
   ],
   "source": [
    "ar_3d = arr_1d.reshape(2,3,2)\n",
    "print(ar_3d)"
   ]
  },
  {
   "cell_type": "code",
   "execution_count": 18,
   "id": "6970ecc5-e8d8-491b-a073-105ec9a08e4a",
   "metadata": {},
   "outputs": [
    {
     "name": "stdout",
     "output_type": "stream",
     "text": [
      "[[ 1  2  3  4  5  6]\n",
      " [ 7  8  9 10 11 12]]\n"
     ]
    }
   ],
   "source": [
    "ar = np.arange(1,13).reshape(2,6)\n",
    "print(ar)"
   ]
  },
  {
   "cell_type": "markdown",
   "id": "57380ea2-e8c8-46c0-a926-9faecb4ee2a9",
   "metadata": {},
   "source": [
    "<h2>ravel()</h2>"
   ]
  },
  {
   "cell_type": "code",
   "execution_count": 19,
   "id": "7470fdcc-2d24-47a2-8a9f-5aec8051ba7e",
   "metadata": {},
   "outputs": [
    {
     "data": {
      "text/plain": [
       "array([ 1,  2,  3,  4,  5,  6,  7,  8,  9, 10, 11, 12])"
      ]
     },
     "execution_count": 19,
     "metadata": {},
     "output_type": "execute_result"
    }
   ],
   "source": [
    "#2d to 1d\n",
    "ar.ravel()"
   ]
  },
  {
   "cell_type": "markdown",
   "id": "199ab33b-76fa-4069-8ad6-a819a31e1370",
   "metadata": {},
   "source": [
    "<h2>flatten()</h2>"
   ]
  },
  {
   "cell_type": "code",
   "execution_count": 20,
   "id": "2c264605-a8d0-432c-bee2-fefe94d304d4",
   "metadata": {},
   "outputs": [
    {
     "data": {
      "text/plain": [
       "array([ 1,  2,  3,  4,  5,  6,  7,  8,  9, 10, 11, 12])"
      ]
     },
     "execution_count": 20,
     "metadata": {},
     "output_type": "execute_result"
    }
   ],
   "source": [
    "ar.flatten()"
   ]
  },
  {
   "cell_type": "markdown",
   "id": "c2f27afe-1a77-432a-9315-afb6b26a0dc6",
   "metadata": {},
   "source": [
    "<h2>transpose()</h2>"
   ]
  },
  {
   "cell_type": "code",
   "execution_count": 21,
   "id": "0b18731b-367a-4a94-b9f1-b088f06a35ef",
   "metadata": {},
   "outputs": [
    {
     "data": {
      "text/plain": [
       "array([[ 1,  7],\n",
       "       [ 2,  8],\n",
       "       [ 3,  9],\n",
       "       [ 4, 10],\n",
       "       [ 5, 11],\n",
       "       [ 6, 12]])"
      ]
     },
     "execution_count": 21,
     "metadata": {},
     "output_type": "execute_result"
    }
   ],
   "source": [
    "ar.transpose()"
   ]
  },
  {
   "cell_type": "code",
   "execution_count": 22,
   "id": "dcdafa24-df37-4a78-af94-ee4eec9ddbb8",
   "metadata": {},
   "outputs": [
    {
     "data": {
      "text/plain": [
       "array([[ 1,  7],\n",
       "       [ 2,  8],\n",
       "       [ 3,  9],\n",
       "       [ 4, 10],\n",
       "       [ 5, 11],\n",
       "       [ 6, 12]])"
      ]
     },
     "execution_count": 22,
     "metadata": {},
     "output_type": "execute_result"
    }
   ],
   "source": [
    "ar.T"
   ]
  },
  {
   "cell_type": "code",
   "execution_count": null,
   "id": "e37a91c9-95ff-4eb1-abe9-099e4103d8e0",
   "metadata": {},
   "outputs": [],
   "source": []
  }
 ],
 "metadata": {
  "kernelspec": {
   "display_name": "Python 3 (ipykernel)",
   "language": "python",
   "name": "python3"
  },
  "language_info": {
   "codemirror_mode": {
    "name": "ipython",
    "version": 3
   },
   "file_extension": ".py",
   "mimetype": "text/x-python",
   "name": "python",
   "nbconvert_exporter": "python",
   "pygments_lexer": "ipython3",
   "version": "3.12.4"
  }
 },
 "nbformat": 4,
 "nbformat_minor": 5
}
