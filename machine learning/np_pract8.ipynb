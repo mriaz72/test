{
 "cells": [
  {
   "cell_type": "markdown",
   "id": "bc28d1d5-aa52-4ba3-805e-016a8a421f5c",
   "metadata": {},
   "source": [
    "<h2>Random sampling with numpy</h2>"
   ]
  },
  {
   "cell_type": "code",
   "execution_count": 1,
   "id": "40d5c70f-80ef-4add-b0e6-df53585db639",
   "metadata": {},
   "outputs": [],
   "source": [
    "import numpy as np\n",
    "import random"
   ]
  },
  {
   "cell_type": "code",
   "execution_count": 3,
   "id": "a5a8d830-aaf5-49f0-8ca8-a36a5c7db21e",
   "metadata": {},
   "outputs": [
    {
     "data": {
      "text/plain": [
       "array([[0.56778581, 0.62412279, 0.52837732],\n",
       "       [0.13950946, 0.32934884, 0.70106902],\n",
       "       [0.01309281, 0.2176612 , 0.39167069]])"
      ]
     },
     "execution_count": 3,
     "metadata": {},
     "output_type": "execute_result"
    }
   ],
   "source": [
    "np.random.random((3,3))"
   ]
  },
  {
   "cell_type": "code",
   "execution_count": null,
   "id": "a1da1f47-480e-4694-b656-06c532f92370",
   "metadata": {},
   "outputs": [],
   "source": []
  }
 ],
 "metadata": {
  "kernelspec": {
   "display_name": "Python 3 (ipykernel)",
   "language": "python",
   "name": "python3"
  },
  "language_info": {
   "codemirror_mode": {
    "name": "ipython",
    "version": 3
   },
   "file_extension": ".py",
   "mimetype": "text/x-python",
   "name": "python",
   "nbconvert_exporter": "python",
   "pygments_lexer": "ipython3",
   "version": "3.12.4"
  }
 },
 "nbformat": 4,
 "nbformat_minor": 5
}
